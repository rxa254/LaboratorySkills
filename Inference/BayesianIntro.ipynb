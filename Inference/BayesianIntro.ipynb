{
 "cells": [
  {
   "cell_type": "markdown",
   "metadata": {},
   "source": [
    "# Simple Bayesian Inference Example\n",
    "### Kevin Kuns (2018)\n",
    "\n",
    "This notebook gives a basic example of infering the bias of a coin using Bayesian inference."
   ]
  },
  {
   "cell_type": "code",
   "execution_count": null,
   "metadata": {
    "collapsed": false,
    "jupyter": {
     "outputs_hidden": false
    }
   },
   "outputs": [],
   "source": [
    "import numpy as np\n",
    "import matplotlib.pyplot as plt\n",
    "import matplotlib as mpl\n",
    "import matplotlib.lines as mlines\n",
    "from scipy.stats import beta\n",
    "from numpy.random import rand\n",
    "from scipy.integrate import quad\n",
    "\n",
    "# to check code execution times\n",
    "from timeit import default_timer as timer\n",
    "\n",
    "#%matplotlib inline\n",
    "plt.style.use(\"../ranaIFO.mplstyle\")"
   ]
  },
  {
   "cell_type": "markdown",
   "metadata": {},
   "source": [
    "## Set up the model\n",
    "\n",
    "We want to infer the bias $q$ of a coin; that is $q$ is the probability for the coin to come up heads. If $n$ heads come up over $N$ total flips, the likelihood is\n",
    "$$p(n|q, N)\\propto q^n (1 - q)^{N-n}.$$\n",
    "To get the posterior we also need to pick a prior for $q$:\n",
    "$$p(q|n, N) \\propto q^n (1 - q)^{N-n} p(q).$$\n",
    "We'll choose three different priors:\n",
    "* the flat prior: $p(q)\\propto 1$. We have no idea what the value of $q$ is prior to the experiment.\n",
    "* the fair prior: We think the coin's owner is fairly honest have reason to believe that the coin is fair before the experiment. So take $p(q)$ to be peaked around $q=0.5$.\n",
    "* the biased prior: We know the coin's owner is shady and have reason to believe that the coin is biased, but don't know whether it's biased towards heads or tails. So take $p(q)$ to be peaked around $0$ and $1$ with little support in between."
   ]
  },
  {
   "cell_type": "code",
   "execution_count": null,
   "metadata": {
    "collapsed": false,
    "jupyter": {
     "outputs_hidden": false
    }
   },
   "outputs": [],
   "source": [
    "q = np.linspace(0, 1, 500)\n",
    "\n",
    "flatPrior   = lambda q: 1\n",
    "fairPrior   = lambda q: beta.pdf(q, 30, 30)\n",
    "biasedPrior = lambda q: beta.pdf(q, 0.1, 0.1)"
   ]
  },
  {
   "cell_type": "code",
   "execution_count": null,
   "metadata": {},
   "outputs": [],
   "source": [
    "def computeNormalizedPosterior(Nhead, Ntot, prior, q):\n",
    "    post = lambda x: x**Nhead * (1 - x)**(Ntot - Nhead) * prior(x)\n",
    "    return post(q) / quad(post, 0, 1)[0]"
   ]
  },
  {
   "cell_type": "code",
   "execution_count": null,
   "metadata": {
    "collapsed": false,
    "jupyter": {
     "outputs_hidden": false
    }
   },
   "outputs": [],
   "source": [
    "def plotCoinData(Nhead, Ntot, q0=None):\n",
    "    fig, ax = plt.subplots(figsize=(11, 8))\n",
    "    \n",
    "    flatPosterior   = computeNormalizedPosterior(Nhead, Ntot, flatPrior,   q)\n",
    "    fairPosterior   = computeNormalizedPosterior(Nhead, Ntot, fairPrior,   q)\n",
    "    biasedPosterior = computeNormalizedPosterior(Nhead, Ntot, biasedPrior, q)\n",
    "    \n",
    "    ax.plot(q, flatPosterior,  c = 'xkcd:Charcoal', label='flat')\n",
    "    ax.plot(q, fairPosterior,   'C2:',  label='fair')\n",
    "    ax.plot(q, biasedPosterior, 'C1-.', label='biased')\n",
    "    if q0:\n",
    "        ax.axvline(q0, color='k', lw = 4, alpha = 0.3, label='true value')\n",
    "    handles, labels = ax.get_legend_handles_labels()\n",
    "    l1 = mlines.Line2D([], [], alpha=0)\n",
    "    handles.append(l1)\n",
    "    labels.append(r'$N = {:d};\\; n = {:d}$'.format(Ntot, Nhead))\n",
    "    ax.legend(handles, labels)\n",
    "    ax.set_xlim(0, 1)\n",
    "    ax.set_ylim(0, 16)\n",
    "    ax.set_xlabel(r'probability $q$ of getting heads')\n",
    "    ax.set_title(r'posterior distribution')"
   ]
  },
  {
   "cell_type": "code",
   "execution_count": null,
   "metadata": {},
   "outputs": [],
   "source": [
    "q0 = 0.3  # The true value of the bias\n",
    "#np.seterr(all='raise')\n",
    "Nh = np.cumsum(rand(1000) < q0)"
   ]
  },
  {
   "cell_type": "markdown",
   "metadata": {},
   "source": [
    "## Plot some results"
   ]
  },
  {
   "cell_type": "markdown",
   "metadata": {},
   "source": [
    "Before any coins have been tossed the posterior is just the prior."
   ]
  },
  {
   "cell_type": "code",
   "execution_count": null,
   "metadata": {
    "collapsed": false,
    "jupyter": {
     "outputs_hidden": false
    }
   },
   "outputs": [],
   "source": [
    "fig = plotCoinData(0, 0)"
   ]
  },
  {
   "cell_type": "markdown",
   "metadata": {},
   "source": [
    "Now look at how the posterior is updated after the first few coin tosses."
   ]
  },
  {
   "cell_type": "code",
   "execution_count": null,
   "metadata": {
    "collapsed": false,
    "jupyter": {
     "outputs_hidden": false
    }
   },
   "outputs": [],
   "source": [
    "# first 5\n",
    "fig = plotCoinData(Nh[4], 5, q0);"
   ]
  },
  {
   "cell_type": "code",
   "execution_count": null,
   "metadata": {
    "collapsed": false,
    "jupyter": {
     "outputs_hidden": false
    }
   },
   "outputs": [],
   "source": [
    "# first 10\n",
    "fig = plotCoinData(Nh[9], 10, q0);"
   ]
  },
  {
   "cell_type": "code",
   "execution_count": null,
   "metadata": {
    "collapsed": false,
    "jupyter": {
     "outputs_hidden": false
    }
   },
   "outputs": [],
   "source": [
    "# first 50\n",
    "fig = plotCoinData(Nh[49], 50, q0);"
   ]
  },
  {
   "cell_type": "code",
   "execution_count": null,
   "metadata": {
    "collapsed": false,
    "jupyter": {
     "outputs_hidden": false
    }
   },
   "outputs": [],
   "source": [
    "# first 100\n",
    "fig = plotCoinData(Nh[90], 100, q0);"
   ]
  },
  {
   "cell_type": "code",
   "execution_count": null,
   "metadata": {
    "collapsed": false,
    "jupyter": {
     "outputs_hidden": false
    }
   },
   "outputs": [],
   "source": [
    "# first 200\n",
    "fig = plotCoinData(Nh[199], 200, q0);"
   ]
  },
  {
   "cell_type": "code",
   "execution_count": null,
   "metadata": {
    "collapsed": false,
    "jupyter": {
     "outputs_hidden": false
    }
   },
   "outputs": [],
   "source": [
    "fig = plotCoinData(Nh[999], 1000, q0);"
   ]
  },
  {
   "cell_type": "code",
   "execution_count": null,
   "metadata": {},
   "outputs": [],
   "source": []
  },
  {
   "cell_type": "code",
   "execution_count": null,
   "metadata": {},
   "outputs": [],
   "source": []
  },
  {
   "cell_type": "code",
   "execution_count": null,
   "metadata": {},
   "outputs": [],
   "source": []
  }
 ],
 "metadata": {
  "kernelspec": {
   "display_name": "Python 3 (ipykernel)",
   "language": "python",
   "name": "python3"
  },
  "language_info": {
   "codemirror_mode": {
    "name": "ipython",
    "version": 3
   },
   "file_extension": ".py",
   "mimetype": "text/x-python",
   "name": "python",
   "nbconvert_exporter": "python",
   "pygments_lexer": "ipython3",
   "version": "3.9.7"
  }
 },
 "nbformat": 4,
 "nbformat_minor": 4
}
