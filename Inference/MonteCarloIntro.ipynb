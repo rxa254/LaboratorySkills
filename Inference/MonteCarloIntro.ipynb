{
 "cells": [
  {
   "cell_type": "markdown",
   "metadata": {},
   "source": [
    "$\\newcommand{\\t}[1]{\\mathrm{#1}}$\n",
    "$\\newcommand{\\e}[1]{\\mathrm{#1}}$"
   ]
  },
  {
   "cell_type": "markdown",
   "metadata": {},
   "source": [
    "# Example Bayesian Monte Carlo\n",
    "### Kevin Kuns (2018)\n",
    "This notebook gives an example of doing a Bayesian Monte Carlo analysis of a decaying sinusoidal function with noise. This uses the python packages emcee and corner. Install them in the same anaconda environment as finesse, etc.\n",
    "```\n",
    "conda install -c conda-forge emcee corner\n",
    "```"
   ]
  },
  {
   "cell_type": "code",
   "execution_count": null,
   "metadata": {},
   "outputs": [],
   "source": [
    "import numpy as np\n",
    "import emcee\n",
    "from numpy.random import randn, rand\n",
    "import matplotlib.pyplot as plt\n",
    "#import matplotlib as mpl\n",
    "import matplotlib.gridspec as gridspec\n",
    "import corner\n",
    "\n",
    "# to check code execution times\n",
    "from timeit import default_timer as timer"
   ]
  },
  {
   "cell_type": "code",
   "execution_count": null,
   "metadata": {},
   "outputs": [],
   "source": [
    "#plt.style.use(\"../ranaIFO.mplstyle\")"
   ]
  },
  {
   "cell_type": "markdown",
   "metadata": {},
   "source": [
    "## Set up the model\n",
    "\n",
    "As a model consider the observed data\n",
    "$$y(t) = A e^{-t/\\tau} \\sin (2\\pi ft) + \\xi(t)$$\n",
    "where $\\xi(t)$ is noise assumed to be normally distributed with zero mean and unit variance. We want to infer the amplitude $A$, frequency $f$, and decay time $\\tau$ from this noisy data."
   ]
  },
  {
   "cell_type": "code",
   "execution_count": null,
   "metadata": {},
   "outputs": [],
   "source": [
    "def signalFunction(theta, tt):\n",
    "    A, f, tau = theta\n",
    "    return A * np.exp(-tt/tau) * np.sin(2*np.pi*f*tt)\n",
    "\n",
    "\n",
    "def lnlike(theta, tt, data):\n",
    "    model = signalFunction(theta, tt)\n",
    "    return -0.5 * np.sum((data - model)**2)\n",
    "\n",
    "\n",
    "def lnprior(theta):\n",
    "    A, f, tau = theta\n",
    "    if tau < 0.1 or tau > 10:\n",
    "        return -np.inf\n",
    "    if f < 0.1 or f > 10:\n",
    "        return -np.inf\n",
    "    if A < 0:\n",
    "        return -np.inf\n",
    "    else:\n",
    "        return -1/(2*5) * (A - 10)**2\n",
    "\n",
    "\n",
    "def lnpost(theta, tt, data):\n",
    "    return lnlike(theta, tt, data) + lnprior(theta)"
   ]
  },
  {
   "cell_type": "code",
   "execution_count": null,
   "metadata": {},
   "outputs": [],
   "source": [
    "# Define the signal and data\n",
    "tt = np.linspace(0, 15, 500)\n",
    "A = 7\n",
    "f = 0.5\n",
    "tau = 5\n",
    "signal = signalFunction([A, f, tau], tt)\n",
    "noise = randn(len(tt))\n",
    "data = signal + noise"
   ]
  },
  {
   "cell_type": "code",
   "execution_count": null,
   "metadata": {
    "collapsed": false,
    "jupyter": {
     "outputs_hidden": false
    }
   },
   "outputs": [],
   "source": [
    "fig,ax = plt.subplots()\n",
    "ax.plot(tt, data, label='data')\n",
    "ax.plot(tt, signal, label='signal')\n",
    "ax.set_xlabel('Time [s]')\n",
    "ax.set_ylabel('Amplitude [arb]')\n",
    "ax.set_xlim(tt[0], tt[-1])\n",
    "ax.legend()\n",
    "ax.grid('on', which='both', alpha=0.3)\n",
    "ax.set_title(\"Siddesh's Fav Function\");"
   ]
  },
  {
   "cell_type": "markdown",
   "metadata": {},
   "source": [
    "## Setup the Monte Carlo Sampling"
   ]
  },
  {
   "cell_type": "code",
   "execution_count": null,
   "metadata": {},
   "outputs": [],
   "source": [
    "ndim = 3 # number of parameters to estimate\n",
    "nwalkers = 900 # number of walkers\n",
    "nsteps = 1000 # number of steps each walker will take\n",
    "nburn = int(nsteps/4) # number of steps to \"burn in\"\n",
    "nthreads = 3 # number of parallel threads to use"
   ]
  },
  {
   "cell_type": "code",
   "execution_count": null,
   "metadata": {
    "collapsed": false,
    "jupyter": {
     "outputs_hidden": false
    }
   },
   "outputs": [],
   "source": [
    "# Choose initial conditions\n",
    "theta0 = np.array(\n",
    "    [[1 + 0.01*randn(), 1 + 0.01*randn(), 1 + rand()]\n",
    "     for ii in range(nwalkers)])"
   ]
  },
  {
   "cell_type": "code",
   "execution_count": null,
   "metadata": {
    "collapsed": false,
    "jupyter": {
     "outputs_hidden": false
    },
    "scrolled": true
   },
   "outputs": [],
   "source": [
    "# Run the sampler\n",
    "t_0 = timer()\n",
    "sampler = emcee.EnsembleSampler(nwalkers, ndim, lnpost, args=(tt, data), threads=nthreads)\n",
    "sampler.run_mcmc(theta0, nsteps)\n",
    "t_elapsed = timer() - t_0\n",
    "print('Elapsed time = {t:4.1f} seconds.'.format(t=t_elapsed))"
   ]
  },
  {
   "cell_type": "markdown",
   "metadata": {},
   "source": [
    "## Plot the Results"
   ]
  },
  {
   "cell_type": "code",
   "execution_count": null,
   "metadata": {
    "collapsed": false,
    "jupyter": {
     "outputs_hidden": false
    }
   },
   "outputs": [],
   "source": [
    "fig = plt.figure(figsize=(11, 18))\n",
    "gs = gridspec.GridSpec(3, 1, hspace=0.05)\n",
    "A_ax = fig.add_subplot(gs[0])\n",
    "f_ax = fig.add_subplot(gs[1], sharex=A_ax)\n",
    "tau_ax = fig.add_subplot(gs[2], sharex=A_ax)\n",
    "for ii in range(0, nwalkers, int(nwalkers/10)):\n",
    "    A_ax.plot(sampler.chain[ii, :, 0])\n",
    "    f_ax.plot(sampler.chain[ii, :, 1])\n",
    "    tau_ax.plot(sampler.chain[ii, :, 2])\n",
    "plt.setp(A_ax.get_xticklabels(), visible=False)\n",
    "plt.setp(f_ax.get_xticklabels(), visible=False)\n",
    "A_ax.set_ylabel(r'$Amplitude$')\n",
    "f_ax.set_ylabel(r'$freq$')\n",
    "tau_ax.set_ylabel(r'$\\tau$')\n",
    "tau_ax.set_xlabel('step')\n",
    "tau_ax.set_xlim(0, nsteps)\n",
    "for ax in [A_ax, f_ax, tau_ax]:\n",
    "    ax.grid('on', which='both', alpha=0.3)\n",
    "    ax.grid(which='minor', alpha=0.2)"
   ]
  },
  {
   "cell_type": "code",
   "execution_count": null,
   "metadata": {
    "collapsed": false,
    "jupyter": {
     "outputs_hidden": false
    }
   },
   "outputs": [],
   "source": [
    "# Only take the samples after burning in the sampler to remove effects of initial conditions\n",
    "samples = sampler.chain[:, nburn:, :].reshape((-1, ndim))"
   ]
  },
  {
   "cell_type": "code",
   "execution_count": null,
   "metadata": {
    "collapsed": false,
    "jupyter": {
     "outputs_hidden": false
    }
   },
   "outputs": [],
   "source": [
    "# Make a corner plot\n",
    "fig = corner.corner(samples, labels=[r'$A$', r'$f$', r'$\\tau$'], truths=[A, f, tau])\n",
    "fig.set_size_inches((12, 12))"
   ]
  },
  {
   "cell_type": "code",
   "execution_count": null,
   "metadata": {},
   "outputs": [],
   "source": [
    "# This is a more complicated but prettier plot\n",
    "ll = 0.75\n",
    "ul = 1.25\n",
    "TV = [A, f, tau]\n",
    "fig,ax = plt.subplots(np.shape(samples)[1],\n",
    "                      np.shape(samples)[1], figsize=(12,12))\n",
    "corner.corner(samples,\n",
    "        labels=['Amplitude [arb]',\n",
    "            'Frequency [Hz]',\n",
    "            'Decay Time Constant [s]'],\n",
    "            #quantiles=[0.9, 0.95, 0.98],\n",
    "            truths = TV,\n",
    "            truth_color = 'xkcd:bright orange',\n",
    "            show_titles = True,\n",
    "            use_math_text = True,\n",
    "            bins = 50,\n",
    "            range = [(ll*A, ul*A), (ll*f, ul*f), (ll*tau, ul*tau)],\n",
    "            #   levels=(0.95,),\n",
    "            color = 'xkcd:irish green',\n",
    "            smooth = 0.5, # smoothing scale in std's\n",
    "            hist_kwargs  = {'linewidth':2.5},\n",
    "            label_kwargs = {'fontsize':'large', 'fontweight':'bold'},\n",
    "            title_kwargs = {'fontsize':'medium', 'fontweight':'bold'},\n",
    "                  fig = fig)\n",
    "\n",
    "for i in range(ndim):\n",
    "    for j in range(ndim):\n",
    "        ax[i,j].set_xlim(ll*TV[j], ul*TV[j])\n",
    "        if i != j:\n",
    "            ax[i,j].set_ylim(ll*TV[i], ul*TV[i])\n",
    "        \n",
    "    \n",
    "\n",
    "# Print the MC parameters onto the plot\n",
    "#ax[0,2].text(0.005,0.27, parText, wrap=True,transform=ax[0,2].transAxes)\n",
    "pdfFile = 'MCMCposterior' + '.pdf'\n",
    "\n",
    "try:   # try to print the file\n",
    "    fig.savefig(pdfFile)\n",
    "    #print(\"File saved as \" + pdfFile)\n",
    "except:\n",
    "    print(\"Unexpected error:\", sys.exc_info()[0])\n",
    "    raise\n"
   ]
  },
  {
   "cell_type": "code",
   "execution_count": null,
   "metadata": {},
   "outputs": [],
   "source": []
  }
 ],
 "metadata": {
  "kernelspec": {
   "display_name": "Python 3 (ipykernel)",
   "language": "python",
   "name": "python3"
  },
  "language_info": {
   "codemirror_mode": {
    "name": "ipython",
    "version": 3
   },
   "file_extension": ".py",
   "mimetype": "text/x-python",
   "name": "python",
   "nbconvert_exporter": "python",
   "pygments_lexer": "ipython3",
   "version": "3.9.7"
  }
 },
 "nbformat": 4,
 "nbformat_minor": 4
}
