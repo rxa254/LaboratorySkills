{
 "cells": [
  {
   "cell_type": "markdown",
   "metadata": {},
   "source": [
    "# Feedback Controls\n",
    "### Tutorial on Feedback Systems (part 1 of N)\n",
    "#### R. X Adhikari (5/2020)"
   ]
  },
  {
   "cell_type": "code",
   "execution_count": null,
   "metadata": {},
   "outputs": [],
   "source": [
    "\n",
    "import numpy as np\n",
    "\n",
    "import matplotlib.pyplot as plt\n",
    "from scipy import signal as sig\n",
    "#from scipy import interpolate\n",
    "#from scipy import optimize\n",
    "#import astropy.constants as const\n",
    "import control\n",
    "from control.matlab import *\n",
    "#from timeit import default_timer as timer  # this is for timing the ODE solvers\n",
    "from IPython.display import Image, SVG, display\n",
    "# uncomment if you have a Mac with Retina display\n",
    "#%config InlineBackend.figure_format = 'retina'\n",
    "plt.style.use('dark_background')\n",
    "plt.rcParams.update({'text.usetex': False,\n",
    "                     'lines.linewidth': 4,\n",
    "                     'font.family': 'serif',\n",
    "                     'font.serif': 'Georgia',\n",
    "                     'font.size': 22,\n",
    "                     'xtick.direction': 'in',\n",
    "                     'ytick.direction': 'in',\n",
    "                     'xtick.labelsize': 'medium',\n",
    "                     'ytick.labelsize': 'medium',\n",
    "                     'axes.labelsize': 'medium',\n",
    "                     'axes.titlesize': 'medium',\n",
    "                     'axes.grid.axis': 'both',\n",
    "                     'axes.grid.which': 'both',\n",
    "                     'axes.grid': True,\n",
    "                     'grid.color': 'xkcd:beige',\n",
    "                     'grid.alpha': 0.253,\n",
    "                     'lines.markersize': 12,\n",
    "                     'legend.borderpad': 0.2,\n",
    "                     'legend.fancybox': True,\n",
    "                     'legend.fontsize': 'small',\n",
    "                     'legend.framealpha': 0.8,\n",
    "                     'legend.handletextpad': 0.5,\n",
    "                     'legend.labelspacing': 0.33,\n",
    "                     'legend.loc': 'best',\n",
    "                     'figure.figsize': ((12, 8)),\n",
    "                     'savefig.dpi': 140,\n",
    "                     'savefig.bbox': 'tight',\n",
    "                     'pdf.compression': 9})\n",
    "\n",
    "def multZPG(P, C, A):\n",
    "    # multiply them together by concatenating the zeros and poles\n",
    "    pos = np.hstack((P.poles, C.poles, A.poles))\n",
    "    zos = np.hstack((P.zeros, C.zeros, A.zeros))\n",
    "    G = P.gain * C.gain * A.gain\n",
    "    return sig.ZerosPolesGain(zos, pos, G)"
   ]
  },
  {
   "cell_type": "markdown",
   "metadata": {},
   "source": [
    "## Outline\n",
    "1. Linear Systems\n",
    "1. Laplace Domain\n",
    "1. Feedback Loops\n",
    "    1. Nomenclature\n",
    "    1. How to calculate TFs for SISO\n",
    "    1. MIMO calculations\n",
    "        1. Adjacency Matrix\n",
    "1. Noise Analysis\n",
    "1. Range Analysis\n",
    "1. Stability Analysis\n",
    "1. Optimal Feedback"
   ]
  },
  {
   "cell_type": "markdown",
   "metadata": {},
   "source": [
    "## Linear Systems"
   ]
  },
  {
   "cell_type": "markdown",
   "metadata": {},
   "source": [
    "## Laplace Domain"
   ]
  },
  {
   "cell_type": "markdown",
   "metadata": {},
   "source": [
    "## Feedback Loops\n",
    "Recommend [Astrom and Murray (2009](https://www.cds.caltech.edu/~murray/amwiki) for a nice introduction. Here lets define some terms to get started:\n",
    "* **Open Loop Gain (OLG):** once around the open loop: $$OLG = P \\times C \\times A$$\n",
    "* **Closed Loop Gain (CLG):** $$CLG = \\frac{1}{1 - OLG}$$\n",
    "* Forward Loop Gain\n",
    "* Sensitivity\n",
    "* Return something\n",
    "* **Plant:** this is the physical system that we ware trying to control (e.g. a the position of a pendulum, the temperature of a box, the frequency of a quartz oscillator, etc.\n",
    "* **Actuator:** this is what we use to change the plant (e.g. a force, a heat source, a variable capacitor, etc.)\n",
    "* **Controller:** this is where the magic happens - this is where the feedback loop transfer function is implemented. IF its digital, the number of poles & zeros here can be very large $\\sim O(100)$\n",
    "* **Error Signal ($\\epsilon$):** the input to the feedback Controller $C(s)$\n",
    "* **Control Signal ($u$):** the out of the feedback controller (e.g. the voltage that drives the actuator)\n",
    "* Dynamic Range"
   ]
  },
  {
   "cell_type": "code",
   "execution_count": null,
   "metadata": {},
   "outputs": [],
   "source": [
    "SVG(filename='SISO-loop.svg')"
   ]
  },
  {
   "cell_type": "code",
   "execution_count": null,
   "metadata": {},
   "outputs": [],
   "source": [
    "f = np.logspace(-1,3, 300)\n",
    "w = 2*np.pi * f\n",
    "\n",
    "p1 = 1 * np.exp(1j * 88*np.pi/180)\n",
    "pend = -2*np.pi*np.array([p1, np.conj(p1)])\n",
    "P = zpk2ss([], pend, 1)\n",
    "P = ss(P[0], P[1], P[2], P[3])\n",
    "\n",
    "C = zpk2ss([-2*np.pi*30, -2*np.pi*30], [0, -2*np.pi*1000], 33e9)\n",
    "C = ss(C[0], C[1], C[2], C[3])\n",
    "\n",
    "A = zpk2ss([],[-2*np.pi*1111],1)\n",
    "A = ss(A[0], A[1], A[2], A[3])\n",
    "\n",
    "# multiply them together by concatenating the zeros and poles\n",
    "olg = P * C * A\n",
    "\n",
    "clg = feedback(1, olg)\n",
    "\n",
    "#w, mag, phase = sig.bode(olg, w=w)\n",
    "mag_olg, pha_olg, _ = freqresp(olg, omega=w)\n",
    "mag_clg, pha_clg, _ = freqresp(clg, omega=w)\n",
    "\n",
    "#hclg = 1 / (1 - holg)\n",
    "\n",
    "fig,ax = plt.subplots(2, 2, figsize=(19,10), sharex='col')\n",
    "\n",
    "ax[0,0].semilogx(f, 20*np.log10(mag_clg.flatten()), label='CLG')\n",
    "ax[0,0].semilogx(f, 20*np.log10(mag_olg.flatten()), label='OLG')\n",
    "ax[0,0].set_ylim([-60, 101])\n",
    "\n",
    "ax[0,0].set_ylabel('Mag [dB]')\n",
    "ax[0,0].set_xticklabels([])\n",
    "ax[0,0].legend()\n",
    "\n",
    "ax[1,0].semilogx(f, 180/np.pi*pha_olg.flatten())\n",
    "ax[1,0].semilogx(f, 180/np.pi*pha_clg.flatten())\n",
    "\n",
    "ax[1,0].set_xlabel('Freq [Hz]')\n",
    "ax[1,0].set_ylabel('Phase [deg]')\n",
    "ax[1,0].set_ylim([-180, 181])\n",
    "ax[1,0].set_yticks(np.arange(-180, 181, 60))\n",
    "\n",
    "T = np.linspace(0, .031, 300)\n",
    "t, y = control.impulse_response(clg)\n",
    "ax[0,1].plot(t, y, label='Impulse Response')\n",
    "\n",
    "t, y = control.step_response(clg)\n",
    "ax[1,1].plot(t, y, label='Step Response')\n",
    "ax[1,1].set_xlabel('Time [s]')\n",
    "\n",
    "plt.show()"
   ]
  },
  {
   "cell_type": "markdown",
   "metadata": {},
   "source": [
    "## Noise Analysis\n",
    "#### How to calculate the TF from the noise injection points to elsewhere in the system:\n",
    "Simple - \n",
    "1. The loop suppresses the noise so that right after the injection point: $$in\\_loop noise = noise \\times CLG$$\n",
    "1. From that point multiple by the forward loop gain between the injection point and the point of interest.\n",
    "\n",
    "#### Example\n",
    "* How big is the contribution of the force noise \"Disturb\" in the error signal?\n",
    "\n",
    "$$\\epsilon = Disturb \\frac{P}{1-OLG}$$ "
   ]
  },
  {
   "cell_type": "markdown",
   "metadata": {},
   "source": [
    "## Range Analysis"
   ]
  },
  {
   "cell_type": "markdown",
   "metadata": {},
   "source": [
    "## Stability Analysis"
   ]
  },
  {
   "cell_type": "markdown",
   "metadata": {},
   "source": [
    "## Optimal Feedback"
   ]
  },
  {
   "cell_type": "code",
   "execution_count": null,
   "metadata": {},
   "outputs": [],
   "source": []
  }
 ],
 "metadata": {
  "kernelspec": {
   "display_name": "Python 3",
   "language": "python",
   "name": "python3"
  },
  "language_info": {
   "codemirror_mode": {
    "name": "ipython",
    "version": 3
   },
   "file_extension": ".py",
   "mimetype": "text/x-python",
   "name": "python",
   "nbconvert_exporter": "python",
   "pygments_lexer": "ipython3",
   "version": "3.8.2"
  }
 },
 "nbformat": 4,
 "nbformat_minor": 4
}
